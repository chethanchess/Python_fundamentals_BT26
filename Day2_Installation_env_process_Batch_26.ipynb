{
 "cells": [
  {
   "cell_type": "code",
   "execution_count": null,
   "metadata": {},
   "outputs": [],
   "source": [
    "# How to  install  anaconda which is  python  distribution:\n",
    "\n",
    "Steps to  be  followed:\n",
    "    1. Open the  link  \"www.anaconda.com\".\n",
    "    2. Click  on \"Get Started\" Button.\n",
    "    3. Click on  Install  anaconda individual  edition  \n",
    "    4. Scroll Down  below and  Click  on  download(Anaconda installers with different OS, latest pytohon version)\n",
    "    5. Clcik on 64-bit graphical  insatller, next-->next-->next-->next-->..etc finish  shortcut in desktop will be created.\n",
    "    6. Open cmd or terminal  and  type(jupyter notebook:it will open  in IE or chrome browser ).\n",
    "    7. click  on  launch under Jupyter Notebook.\n",
    "    8. Select dropown  as python.(now you can start with your coding)"
   ]
  },
  {
   "cell_type": "code",
   "execution_count": null,
   "metadata": {},
   "outputs": [],
   "source": [
    "# How to  save your files in  Github:\n",
    "\n",
    "Github: its  nothing but Online code storage repository.\n",
    "\n",
    "Steps to  be  followed:\n",
    "    1. Open the  link  \"www.github.com\".\n",
    "    2. Complete the Signup process and signin.\n",
    "    3. Top left cat logo will be available  click on  cat icon.\n",
    "    4. Click  on  New button(In  green colour): Craete a  new repository.\n",
    "    5. Create a repository name as Python_fundamentals_B26\n",
    "    6. Add description as  I Love my  codes.\n",
    "    7. Select  the public radio button and ensure you select the checkbox of \"Initialize this repository with a README\"\n",
    "    8. Click  on  Create Repository."
   ]
  },
  {
   "cell_type": "code",
   "execution_count": null,
   "metadata": {},
   "outputs": [],
   "source": [
    "# How to upload files:\n",
    "Steps to  be  followed:\n",
    "    1. Click  on add file.\n",
    "    2. Select Upload files.\n",
    "    3. Click on  \"Choose your files\" hyperlink.\n",
    "    4. Select the  file in  python.\n",
    "    5. Click  on  'Open'\n",
    "    6. Click  on  Commit.\n"
   ]
  }
 ],
 "metadata": {
  "kernelspec": {
   "display_name": "Python 3",
   "language": "python",
   "name": "python3"
  },
  "language_info": {
   "codemirror_mode": {
    "name": "ipython",
    "version": 3
   },
   "file_extension": ".py",
   "mimetype": "text/x-python",
   "name": "python",
   "nbconvert_exporter": "python",
   "pygments_lexer": "ipython3",
   "version": "3.8.3"
  }
 },
 "nbformat": 4,
 "nbformat_minor": 4
}
